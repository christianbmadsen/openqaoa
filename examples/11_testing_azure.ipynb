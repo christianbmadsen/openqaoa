{
 "cells": [
  {
   "cell_type": "markdown",
   "metadata": {},
   "source": [
    "# Integrating OpenQAOA ans Azure quantum\n",
    "\n",
    "In this notebook we showcase the OpenQAOA workflows. The notebook is divided into three parts:\n",
    "\n",
    "* The default QAOA workflow on the ionq.simulator\n",
    "* An advanced QAOA workflow on the rigetti QVM\n",
    "* An RQAOA workflow on the rigetti QVM"
   ]
  },
  {
   "cell_type": "markdown",
   "metadata": {},
   "source": [
    "## Default QAOA on the IonQ Emulator"
   ]
  },
  {
   "cell_type": "code",
   "execution_count": 19,
   "metadata": {},
   "outputs": [],
   "source": [
    "from openqaoa.devices import create_device\n",
    "device_azure = create_device(location='azure',\n",
    "                             name='ionq.simulator',\n",
    "                             resource_id=\"/subscriptions/****/resourceGroups/****/providers/****/Workspaces/****\",\n",
    "                             az_location='westus')"
   ]
  },
  {
   "cell_type": "markdown",
   "metadata": {},
   "source": [
    "Let's generate a sample problem, and solve it using an OpenQAOA workflow"
   ]
  },
  {
   "cell_type": "code",
   "execution_count": 20,
   "metadata": {},
   "outputs": [],
   "source": [
    "from openqaoa.problems.problem import NumberPartition\n",
    "\n",
    "np_integer = NumberPartition([1,2,3])\n",
    "np_qubo = np_integer.get_qubo_problem()"
   ]
  },
  {
   "cell_type": "code",
   "execution_count": 21,
   "metadata": {},
   "outputs": [
    {
     "data": {
      "text/plain": [
       "{'terms': [[0, 1], [0, 2], [1, 2]],\n",
       " 'weights': [4.0, 6.0, 12.0],\n",
       " 'constant': 14,\n",
       " '_n': 3}"
      ]
     },
     "execution_count": 21,
     "metadata": {},
     "output_type": "execute_result"
    }
   ],
   "source": [
    "# The qubo is a dictionary including terms and weigths\n",
    "np_qubo.asdict()"
   ]
  },
  {
   "cell_type": "code",
   "execution_count": 22,
   "metadata": {},
   "outputs": [],
   "source": [
    "from openqaoa.workflows.optimizer import QAOA\n",
    "\n",
    "q = QAOA()\n",
    "q.set_device(device_azure)\n",
    "q.set_backend_properties(n_shots=1000)\n",
    "q.set_classical_optimizer(maxiter=5)"
   ]
  },
  {
   "cell_type": "code",
   "execution_count": 24,
   "metadata": {},
   "outputs": [
    {
     "name": "stderr",
     "output_type": "stream",
     "text": [
      "WARNING - EnvironmentCredential.get_token failed: EnvironmentCredential authentication unavailable. Environment variables are not fully configured.\n",
      "Visit https://aka.ms/azsdk/python/identity/environmentcredential/troubleshoot to troubleshoot.this issue.\n",
      "WARNING - ImdsCredential.get_token failed: ManagedIdentityCredential authentication unavailable, no response from the IMDS endpoint.\n",
      "WARNING - ManagedIdentityCredential.get_token failed: ManagedIdentityCredential authentication unavailable, no response from the IMDS endpoint.\n",
      "WARNING - VisualStudioCodeCredential.get_token failed: Failed to get Azure user details from Visual Studio Code.\n",
      "WARNING - VSCodeCredential.get_token failed: Failed to get Azure user details from Visual Studio Code.\n",
      "WARNING - AzureCliCredential.get_token failed: Please run 'az login' to set up an account\n",
      "WARNING - AzurePowerShellCredential.get_token failed: PowerShell is not installed\n"
     ]
    },
    {
     "name": "stdout",
     "output_type": "stream",
     "text": [
      "Opening in existing browser session.\n"
     ]
    }
   ],
   "source": [
    "q.compile(np_qubo)"
   ]
  },
  {
   "cell_type": "code",
   "execution_count": 25,
   "metadata": {},
   "outputs": [
    {
     "name": "stderr",
     "output_type": "stream",
     "text": [
      "WARNING - initial_layout is not a known attribute of class <class 'azure.quantum._client.models._models_py3.JobDetails'> and will be ignored\n"
     ]
    },
    {
     "name": "stdout",
     "output_type": "stream",
     "text": [
      "........"
     ]
    }
   ],
   "source": [
    "q.optimize()"
   ]
  },
  {
   "cell_type": "code",
   "execution_count": null,
   "metadata": {},
   "outputs": [
    {
     "data": {
      "text/plain": [
       "{'optimized angles': [1.35, 1.35],\n",
       " 'optimized cost': 9.184,\n",
       " 'optimized measurement outcomes': {'000': 61,\n",
       "  '100': 114,\n",
       "  '010': 126,\n",
       "  '110': 181,\n",
       "  '001': 215,\n",
       "  '101': 124,\n",
       "  '011': 114,\n",
       "  '111': 65},\n",
       " 'optimized run job id': '0bbe5ca6-5681-11ed-8ef1-5b0395d34123'}"
      ]
     },
     "execution_count": 16,
     "metadata": {},
     "output_type": "execute_result"
    }
   ],
   "source": [
    "q.results.optimized"
   ]
  },
  {
   "cell_type": "markdown",
   "metadata": {},
   "source": [
    "## A more advanced QAOA workflow on the Rigetti QVM"
   ]
  },
  {
   "cell_type": "code",
   "execution_count": 63,
   "metadata": {},
   "outputs": [],
   "source": [
    "device_azure_qvm = create_device(location='azure',\n",
    "                                name='rigetti.sim.qvm',\n",
    "                                resource_id=\"/subscriptions/****/resourceGroups/****/providers/****/Workspaces/****\",\n",
    "                                az_location='westus')"
   ]
  },
  {
   "cell_type": "code",
   "execution_count": 33,
   "metadata": {},
   "outputs": [],
   "source": [
    "from openqaoa.workflows.optimizer import QAOA\n",
    "\n",
    "q_custom = QAOA()\n",
    "q_custom.set_circuit_properties(p=2, param_type='extended', init_type='ramp', mixer_hamiltonian='xy')\n",
    "q_custom.set_device(device_azure_qvm)\n",
    "q_custom.set_backend_properties(init_hadamard=True, n_shots=5000, cvar_alpha=0.8)\n",
    "q_custom.set_classical_optimizer(maxiter=5)"
   ]
  },
  {
   "cell_type": "code",
   "execution_count": 34,
   "metadata": {},
   "outputs": [
    {
     "name": "stderr",
     "output_type": "stream",
     "text": [
      "WARNING - EnvironmentCredential.get_token failed: EnvironmentCredential authentication unavailable. Environment variables are not fully configured.\n",
      "Visit https://aka.ms/azsdk/python/identity/environmentcredential/troubleshoot to troubleshoot.this issue.\n"
     ]
    },
    {
     "name": "stdout",
     "output_type": "stream",
     "text": [
      "Opening in existing browser session.\n"
     ]
    }
   ],
   "source": [
    "q_custom.compile(np_qubo)"
   ]
  },
  {
   "cell_type": "code",
   "execution_count": 35,
   "metadata": {},
   "outputs": [
    {
     "name": "stderr",
     "output_type": "stream",
     "text": [
      "WARNING - initial_layout is not a known attribute of class <class 'azure.quantum._client.models._models_py3.JobDetails'> and will be ignored\n"
     ]
    },
    {
     "name": "stdout",
     "output_type": "stream",
     "text": [
      "............."
     ]
    },
    {
     "name": "stdout",
     "output_type": "stream",
     "text": [
      "........"
     ]
    }
   ],
   "source": [
    "q_custom.optimize()"
   ]
  },
  {
   "cell_type": "code",
   "execution_count": 52,
   "metadata": {},
   "outputs": [
    {
     "name": "stdout",
     "output_type": "stream",
     "text": [
      "states kept: 8\n"
     ]
    },
    {
     "data": {
      "image/png": "[encoded data removed]",
      "text/plain": [
       "<Figure size 1000x800 with 1 Axes>"
      ]
     },
     "metadata": {},
     "output_type": "display_data"
    }
   ],
   "source": [
    "q_custom.results.plot_probabilities()"
   ]
  },
  {
   "cell_type": "markdown",
   "metadata": {},
   "source": [
    "## RQAOA on a QVM"
   ]
  },
  {
   "cell_type": "code",
   "execution_count": 58,
   "metadata": {},
   "outputs": [],
   "source": [
    "np_integer = NumberPartition([1,2,3,4,5,15])\n",
    "np_qubo = np_integer.get_qubo_problem()"
   ]
  },
  {
   "cell_type": "code",
   "execution_count": 64,
   "metadata": {},
   "outputs": [],
   "source": [
    "from openqaoa.workflows.optimizer import RQAOA\n",
    "\n",
    "q_rqaoa = QAOA()\n",
    "q_rqaoa.set_device(device_azure_qvm)\n",
    "\n",
    "r = RQAOA(qaoa=q_rqaoa, rqaoa_type='custom')\n",
    "\n",
    "# Set parameters for RQAOA, in this case we fix the steps to 1 (default), the final cutoff value to 3\n",
    "r.set_rqaoa_parameters(steps = 1, n_cutoff = 3)\n"
   ]
  },
  {
   "cell_type": "code",
   "execution_count": 65,
   "metadata": {},
   "outputs": [
    {
     "name": "stderr",
     "output_type": "stream",
     "text": [
      "WARNING - EnvironmentCredential.get_token failed: EnvironmentCredential authentication unavailable. Environment variables are not fully configured.\n",
      "Visit https://aka.ms/azsdk/python/identity/environmentcredential/troubleshoot to troubleshoot.this issue.\n"
     ]
    },
    {
     "name": "stdout",
     "output_type": "stream",
     "text": [
      "Opening in existing browser session.\n"
     ]
    }
   ],
   "source": [
    "r.compile(np_qubo)"
   ]
  },
  {
   "cell_type": "code",
   "execution_count": 66,
   "metadata": {},
   "outputs": [
    {
     "name": "stderr",
     "output_type": "stream",
     "text": [
      "WARNING - EnvironmentCredential.get_token failed: EnvironmentCredential authentication unavailable. Environment variables are not fully configured.\n",
      "Visit https://aka.ms/azsdk/python/identity/environmentcredential/troubleshoot to troubleshoot.this issue.\n"
     ]
    },
    {
     "name": "stdout",
     "output_type": "stream",
     "text": [
      "Opening in existing browser session.\n",
      "Opening in existing browser session.\n",
      "Opening in existing browser session.\n"
     ]
    }
   ],
   "source": [
    "r.optimize()"
   ]
  },
  {
   "cell_type": "code",
   "execution_count": 67,
   "metadata": {},
   "outputs": [
    {
     "data": {
      "text/plain": [
       "{'solution': {'110110': 36.0, '001001': 36.0},\n",
       " 'classical output': {'minimum energy': -30.0,\n",
       "  'optimal states': ['110', '001']},\n",
       " 'elimination rules': [{(4, 5): -1.0}, {(2, 3): -1.0}, {(1, 3): 1.0}],\n",
       " 'schedule': [1, 1, 1],\n",
       " 'total steps': 3}"
      ]
     },
     "execution_count": 67,
     "metadata": {},
     "output_type": "execute_result"
    }
   ],
   "source": [
    "r.result"
   ]
  }
 ],
 "metadata": {
  "kernelspec": {
   "display_name": "Python 3.8.13 ('test_azure')",
   "language": "python",
   "name": "python3"
  },
  "language_info": {
   "codemirror_mode": {
    "name": "ipython",
    "version": 3
   },
   "file_extension": ".py",
   "mimetype": "text/x-python",
   "name": "python",
   "nbconvert_exporter": "python",
   "pygments_lexer": "ipython3",
   "version": "3.8.13"
  },
  "orig_nbformat": 4,
  "vscode": {
   "interpreter": {
    "hash": "956158e490d0454e07ac39092a9c5c206817d7bf9a3958594888552806ba4c5f"
   }
  }
 },
 "nbformat": 4,
 "nbformat_minor": 2
}
