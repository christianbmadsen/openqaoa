{
 "cells": [
  {
   "cell_type": "markdown",
   "metadata": {},
   "source": [
    "## QIR<>OQ testing\n",
    "\n",
    "Generate QIR instructions using PyQIR"
   ]
  },
  {
   "cell_type": "code",
   "execution_count": 1,
   "metadata": {
    "execution": {
     "iopub.execute_input": "2022-09-22T06:35:39.060626Z",
     "iopub.status.busy": "2022-09-22T06:35:39.060241Z",
     "iopub.status.idle": "2022-09-22T06:35:40.232537Z",
     "shell.execute_reply": "2022-09-22T06:35:40.231456Z",
     "shell.execute_reply.started": "2022-09-22T06:35:39.060555Z"
    }
   },
   "outputs": [],
   "source": [
    "from pyqir.generator import BasicQisBuilder, SimpleModule, ir_to_bitcode\n",
    "from itertools import combinations\n",
    "from sympy import Symbol"
   ]
  },
  {
   "cell_type": "code",
   "execution_count": 19,
   "metadata": {
    "execution": {
     "iopub.execute_input": "2022-09-22T06:44:12.447297Z",
     "iopub.status.busy": "2022-09-22T06:44:12.446900Z",
     "iopub.status.idle": "2022-09-22T06:44:12.465730Z",
     "shell.execute_reply": "2022-09-22T06:44:12.464314Z",
     "shell.execute_reply.started": "2022-09-22T06:44:12.447262Z"
    }
   },
   "outputs": [
    {
     "ename": "ModuleNotFoundError",
     "evalue": "No module named 'pyqir.parser.pyqir'",
     "output_type": "error",
     "traceback": [
      "\u001b[0;31m---------------------------------------------------------------------------\u001b[0m",
      "\u001b[0;31mModuleNotFoundError\u001b[0m                       Traceback (most recent call last)",
      "Input \u001b[0;32mIn [19]\u001b[0m, in \u001b[0;36m<cell line: 1>\u001b[0;34m()\u001b[0m\n\u001b[0;32m----> 1\u001b[0m \u001b[38;5;28;01mfrom\u001b[39;00m \u001b[38;5;21;01mpyqir\u001b[39;00m\u001b[38;5;21;01m.\u001b[39;00m\u001b[38;5;21;01mparser\u001b[39;00m\u001b[38;5;21;01m.\u001b[39;00m\u001b[38;5;21;01mpyqir\u001b[39;00m \u001b[38;5;28;01mimport\u001b[39;00m PyQirParameter\n",
      "\u001b[0;31mModuleNotFoundError\u001b[0m: No module named 'pyqir.parser.pyqir'"
     ]
    }
   ],
   "source": [
    "from pyqir.parser import PyQirParameter"
   ]
  },
  {
   "cell_type": "code",
   "execution_count": 2,
   "metadata": {
    "execution": {
     "iopub.execute_input": "2022-09-22T06:35:40.649270Z",
     "iopub.status.busy": "2022-09-22T06:35:40.648572Z",
     "iopub.status.idle": "2022-09-22T06:35:40.653390Z",
     "shell.execute_reply": "2022-09-22T06:35:40.652308Z",
     "shell.execute_reply.started": "2022-09-22T06:35:40.649237Z"
    }
   },
   "outputs": [],
   "source": [
    "qaoa_module = SimpleModule(\"QAOA\", num_qubits=6, num_results=6)\n",
    "qis = BasicQisBuilder(qaoa_module.builder)"
   ]
  },
  {
   "cell_type": "code",
   "execution_count": 3,
   "metadata": {
    "execution": {
     "iopub.execute_input": "2022-09-22T06:35:41.039970Z",
     "iopub.status.busy": "2022-09-22T06:35:41.039575Z",
     "iopub.status.idle": "2022-09-22T06:35:41.047436Z",
     "shell.execute_reply": "2022-09-22T06:35:41.046436Z",
     "shell.execute_reply.started": "2022-09-22T06:35:41.039939Z"
    }
   },
   "outputs": [],
   "source": [
    "#construct the circuit\n",
    "gamma = 1#Symbol('\\gamma')\n",
    "beta = 1#Symbol('\\beta')\n",
    "\n",
    "for i in qaoa_module.qubits:\n",
    "    qis.h(i)\n",
    "\n",
    "for i,j in list(combinations(qaoa_module.qubits,2)):\n",
    "    qis.cx(i,j)\n",
    "    qis.rz(gamma, j)\n",
    "    qis.cx(i,j)\n",
    "    \n",
    "for k in qaoa_module.qubits:\n",
    "    qis.rx(beta, k)\n",
    "    \n",
    "for idx,mq in enumerate(qaoa_module.qubits):\n",
    "    qis.m(mq, qaoa_module.results[idx])"
   ]
  },
  {
   "cell_type": "code",
   "execution_count": 4,
   "metadata": {
    "execution": {
     "iopub.execute_input": "2022-09-22T06:35:41.538090Z",
     "iopub.status.busy": "2022-09-22T06:35:41.537731Z",
     "iopub.status.idle": "2022-09-22T06:35:41.543469Z",
     "shell.execute_reply": "2022-09-22T06:35:41.542133Z",
     "shell.execute_reply.started": "2022-09-22T06:35:41.538064Z"
    }
   },
   "outputs": [],
   "source": [
    "ir = qaoa_module.ir()"
   ]
  },
  {
   "cell_type": "code",
   "execution_count": 12,
   "metadata": {
    "execution": {
     "iopub.execute_input": "2022-09-22T06:39:32.172715Z",
     "iopub.status.busy": "2022-09-22T06:39:32.172331Z",
     "iopub.status.idle": "2022-09-22T06:39:32.177103Z",
     "shell.execute_reply": "2022-09-22T06:39:32.176147Z",
     "shell.execute_reply.started": "2022-09-22T06:39:32.172681Z"
    }
   },
   "outputs": [],
   "source": [
    "from openqaoa.problems.problem import MaximumCut\n",
    "from openqaoa.workflows.optimizer import QAOA\n",
    "from openqaoa.devices import create_device"
   ]
  },
  {
   "cell_type": "code",
   "execution_count": 8,
   "metadata": {
    "execution": {
     "iopub.execute_input": "2022-09-22T06:38:23.653700Z",
     "iopub.status.busy": "2022-09-22T06:38:23.653142Z",
     "iopub.status.idle": "2022-09-22T06:38:23.658924Z",
     "shell.execute_reply": "2022-09-22T06:38:23.658110Z",
     "shell.execute_reply.started": "2022-09-22T06:38:23.653668Z"
    }
   },
   "outputs": [],
   "source": [
    "prob = MaximumCut.random_instance(n_nodes=7, edge_probability=0.5)\n",
    "prob_qubo = prob.get_qubo_problem()"
   ]
  },
  {
   "cell_type": "code",
   "execution_count": 13,
   "metadata": {
    "execution": {
     "iopub.execute_input": "2022-09-22T06:39:33.577877Z",
     "iopub.status.busy": "2022-09-22T06:39:33.577495Z",
     "iopub.status.idle": "2022-09-22T06:39:33.587045Z",
     "shell.execute_reply": "2022-09-22T06:39:33.586234Z",
     "shell.execute_reply.started": "2022-09-22T06:39:33.577848Z"
    }
   },
   "outputs": [],
   "source": [
    "dev = create_device('local','qiskit.qasm_simulator')\n",
    "q = QAOA()\n",
    "q.set_device(dev)\n",
    "q.compile(prob_qubo)"
   ]
  },
  {
   "cell_type": "code",
   "execution_count": 17,
   "metadata": {
    "execution": {
     "iopub.execute_input": "2022-09-22T06:40:37.073199Z",
     "iopub.status.busy": "2022-09-22T06:40:37.072836Z",
     "iopub.status.idle": "2022-09-22T06:40:37.077070Z",
     "shell.execute_reply": "2022-09-22T06:40:37.076135Z",
     "shell.execute_reply.started": "2022-09-22T06:40:37.073172Z"
    }
   },
   "outputs": [],
   "source": [
    "ckt = q.backend.parametric_circuit"
   ]
  },
  {
   "cell_type": "code",
   "execution_count": null,
   "metadata": {},
   "outputs": [],
   "source": []
  }
 ],
 "metadata": {
  "kernelspec": {
   "display_name": "pyqir",
   "language": "python",
   "name": "pyqir"
  },
  "language_info": {
   "codemirror_mode": {
    "name": "ipython",
    "version": 3
   },
   "file_extension": ".py",
   "mimetype": "text/x-python",
   "name": "python",
   "nbconvert_exporter": "python",
   "pygments_lexer": "ipython3",
   "version": "3.8.0"
  }
 },
 "nbformat": 4,
 "nbformat_minor": 4
}
