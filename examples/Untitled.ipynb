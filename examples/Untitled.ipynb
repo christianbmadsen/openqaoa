{
 "cells": [
  {
   "cell_type": "markdown",
   "metadata": {},
   "source": [
    "## Construct QIR for a QAOA circuit defined using OpenQAOA\n",
    "    Generate QIR instructions using PyQIR"
   ]
  },
  {
   "cell_type": "markdown",
   "metadata": {},
   "source": [
    "### Create a problem and generate instructions in QIR using OpenQAOA"
   ]
  },
  {
   "cell_type": "code",
   "execution_count": null,
   "metadata": {},
   "outputs": [],
   "source": [
    "from openqaoa.problems.problem import MaximumCut\n",
    "from openqaoa.workflows.optimizer import QAOA\n",
    "from openqaoa.devices import create_device\n",
    "from openqaoa.backends import QAOAQIR"
   ]
  },
  {
   "cell_type": "code",
   "execution_count": null,
   "metadata": {},
   "outputs": [],
   "source": [
    "prob = MaximumCut.random_instance(n_nodes=7, edge_probability=0.5)\n",
    "prob_qubo = prob.get_qubo_problem()"
   ]
  },
  {
   "cell_type": "code",
   "execution_count": null,
   "metadata": {},
   "outputs": [],
   "source": [
    "q = QAOA()\n",
    "q.set_circuit_properties(mixer_hamiltonian='x')\n",
    "dev = create_device('local','qiskit.qasm_simulator')\n",
    "q.set_device(dev)\n",
    "q.compile(prob_qubo)"
   ]
  },
  {
   "cell_type": "code",
   "execution_count": null,
   "metadata": {},
   "outputs": [],
   "source": [
    "circuit_params = q.backend.circuit_params\n",
    "variate_params = q.variate_params"
   ]
  },
  {
   "cell_type": "code",
   "execution_count": null,
   "metadata": {},
   "outputs": [],
   "source": [
    "qir_qaoa = QAOAQIR(circuit_params)\n",
    "ir = qir_qaoa.convert_to_ir(variate_params)\n",
    "print(ir)"
   ]
  },
  {
   "cell_type": "code",
   "execution_count": null,
   "metadata": {},
   "outputs": [],
   "source": [
    "from pyqir.generator import ir_to_bitcode"
   ]
  },
  {
   "cell_type": "code",
   "execution_count": null,
   "metadata": {},
   "outputs": [],
   "source": [
    "qaoa_bitcode = ir_to_bitcode(ir)\n",
    "qaoa_bitcode"
   ]
  },
  {
   "cell_type": "code",
   "execution_count": null,
   "metadata": {},
   "outputs": [],
   "source": [
    "# from azure.quantum.target.rigetti import RigettiTarget, Rigetti, Result, InputParams"
   ]
  },
  {
   "cell_type": "code",
   "execution_count": null,
   "metadata": {},
   "outputs": [],
   "source": [
    "from azure.quantum import Workspace\n",
    "workspace = Workspace(\n",
    "    subscription_id = \"\",\n",
    "    resource_group = \"\",\n",
    "    name = \"\",\n",
    "    location = \"westus\"\n",
    ")"
   ]
  },
  {
   "cell_type": "code",
   "execution_count": null,
   "metadata": {},
   "outputs": [],
   "source": [
    "# target = Rigetti(\n",
    "#     workspace=workspace,\n",
    "#     name=RigettiTarget.QVM,  # Defaults to RigettiTarget.QVM for simulation\n",
    "# )"
   ]
  },
  {
   "cell_type": "code",
   "execution_count": null,
   "metadata": {},
   "outputs": [],
   "source": [
    "import azure.quantum as azure_q\n",
    "job = azure_q.Job.from_input_data(\n",
    "    workspace=workspace,\n",
    "    name=\"oq_test_with_qir\",\n",
    "    provider_id=\"rigetti\",\n",
    "    target=\"rigetti.sim.qvm\",\n",
    "    input_data_format=\"qir.v1\",\n",
    "    output_data_format=\"microsoft.quantum-results.v1\",\n",
    "    input_data=qaoa_bitcode,\n",
    "    input_params={\n",
    "        \"shots\": 100,\n",
    "        \"entryPoint\": \"main\",\n",
    "        \"arguments\": []\n",
    "    }\n",
    ")"
   ]
  },
  {
   "cell_type": "code",
   "execution_count": null,
   "metadata": {},
   "outputs": [],
   "source": [
    "info = job.details.as_dict()\n",
    "info"
   ]
  },
  {
   "cell_type": "code",
   "execution_count": null,
   "metadata": {},
   "outputs": [],
   "source": [
    "job.get_results()"
   ]
  },
  {
   "cell_type": "code",
   "execution_count": null,
   "metadata": {},
   "outputs": [],
   "source": []
  }
 ],
 "metadata": {
  "kernelspec": {
   "display_name": "pyqir_2",
   "language": "python",
   "name": "pyqir"
  },
  "language_info": {
   "codemirror_mode": {
    "name": "ipython",
    "version": 3
   },
   "file_extension": ".py",
   "mimetype": "text/x-python",
   "name": "python",
   "nbconvert_exporter": "python",
   "pygments_lexer": "ipython3",
   "version": "3.8.0"
  }
 },
 "nbformat": 4,
 "nbformat_minor": 4
}
